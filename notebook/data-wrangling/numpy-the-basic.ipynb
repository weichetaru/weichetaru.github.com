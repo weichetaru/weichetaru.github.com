{
 "cells": [
  {
   "cell_type": "markdown",
   "metadata": {},
   "source": [
    "# Numpy - Get Started"
   ]
  },
  {
   "cell_type": "markdown",
   "metadata": {},
   "source": [
    "### What is Numpy?\n",
    "\n",
    "NumPy is the fundamental package for scientific computing with Python. \n",
    "It is a Python library that provides a multidimensional array object, various derived objects (such as masked arrays and matrices), and an assortment of routines for fast operations on arrays, including mathematical, logical, shape manipulation, sorting, selecting, I/O, discrete Fourier transforms, basic linear algebra, basic statistical operations, random simulation and much more. It allows data sciebtists to easily implement methmatically concept into code. Most importantly, Numpy arrays are really fast and friendly on CPU and RAM. \n",
    "\n",
    "Below is a note for basic usage of numpy."
   ]
  },
  {
   "cell_type": "code",
   "execution_count": 1,
   "metadata": {
    "collapsed": true
   },
   "outputs": [],
   "source": [
    "import numpy as np"
   ]
  },
  {
   "cell_type": "markdown",
   "metadata": {},
   "source": [
    "### Array vs List\n",
    "As you can see below, you can operate `A` with mathmatically operations like addition, extraction, power, squart, log etc.  \n",
    "Python List `L` cannot. It will need to do `looping` on each element to achieve the same and hence it's way too slow. "
   ]
  },
  {
   "cell_type": "code",
   "execution_count": 3,
   "metadata": {
    "collapsed": false,
    "scrolled": false
   },
   "outputs": [
    {
     "name": "stdout",
     "output_type": "stream",
     "text": [
      "[2 4 6]\n",
      "[1 4 9]\n",
      "[ 1.          1.41421356  1.73205081]\n",
      "[ 0.          0.69314718  1.09861229]\n"
     ]
    }
   ],
   "source": [
    "# Python List\n",
    "L = [1, 2, 3]\n",
    "A = np.array([1, 2, 3])\n",
    "\n",
    "# You can operate A with mathmatically operation. L cannot. \n",
    "print(2*A)\n",
    "print(A**2)\n",
    "print(np.sqrt(A))\n",
    "print(np.log(A))"
   ]
  },
  {
   "cell_type": "markdown",
   "metadata": {},
   "source": [
    "### Dot Product\n",
    "An important operation for array is dot product as it's basic for matrix operation. Below are the various ways to achieve it.  \n",
    "In code below, dot product for $a$ and $b$ should be like $a\\cdot b^{T}= 1*3+2*4=11$."
   ]
  },
  {
   "cell_type": "code",
   "execution_count": 29,
   "metadata": {
    "collapsed": false,
    "scrolled": false
   },
   "outputs": [
    {
     "name": "stdout",
     "output_type": "stream",
     "text": [
      "11\n"
     ]
    }
   ],
   "source": [
    "a = np.array([1, 2])\n",
    "b = np.array([3, 4])\n",
    "\n",
    "# dot product in different ways: \n",
    "np.dot(a, b) # 11\n",
    "np.inner(a, b) # 11. dot product is also inner product\n",
    "a.dot(b) # 11\n",
    "b.dot(a) # 11\n",
    "(a*b).sum() # 11\n",
    "\n",
    "# you can use python looping to achieve the same, but it will be extremely slow when data is huge.\n",
    "dot = 0\n",
    "for i, j in zip(a, b):\n",
    "    dot += i*j\n",
    "print(dot) # 11"
   ]
  },
  {
   "cell_type": "markdown",
   "metadata": {},
   "source": [
    "### Matrix\n",
    "We can still use np.array to product Matrix. Below is the code for various operations on matrix.  "
   ]
  },
  {
   "cell_type": "code",
   "execution_count": 64,
   "metadata": {
    "collapsed": false
   },
   "outputs": [
    {
     "name": "stdout",
     "output_type": "stream",
     "text": [
      "-0.11553011379\n",
      "0.991388729704\n"
     ]
    }
   ],
   "source": [
    "# Note you can also use np.matrix but np.array is recommanded officially. \n",
    "M = np.array([[1, 2], [3, 4]])\n",
    "# extract element\n",
    "M[0][0] # 1 ; this is the same as python list\n",
    "M[0, 0] # 1\n",
    "\n",
    "# matrix transport\n",
    "M.T\n",
    "\n",
    "# get shap\n",
    "M.shap \n",
    "\n",
    "# Matrix product. same as dot product\n",
    "M.dot(M)\n",
    "np.inner(M, M)\n",
    "\n",
    "# inverse matrix\n",
    "np.linalg.inv(M)\n",
    "\n",
    "# determination\n",
    "np.linalg.det(M)\n",
    "\n",
    "# diagonal element\n",
    "np.diag(M) # [1, 4]\n",
    "\n",
    "# note this will rerurn diagonal matrix\n",
    "np.diag([1, 4]) # [[1, 0], [0, 4]]\n",
    "\n",
    "# trace\n",
    "np.diag(M).sum()\n",
    "np.trace(M)\n",
    "\n",
    "# product various 10x10 matrix \n",
    "# all zero\n",
    "Z = np.zeros((10, 10))\n",
    "\n",
    "# all one\n",
    "O = np.ones((10, 10))\n",
    "\n",
    "# random from uniform distribution\n",
    "R = np.random.random((10, 10))\n",
    "\n",
    "# random from normal distribution(0, 1)\n",
    "# Note randn take each dimension as individual argument, others use turple\n",
    "N = np.random.randn(10, 10)\n",
    "print(N.mean())\n",
    "print(N.var())"
   ]
  }
 ],
 "metadata": {
  "anaconda-cloud": {},
  "kernelspec": {
   "display_name": "Python [conda root]",
   "language": "python",
   "name": "conda-root-py"
  },
  "language_info": {
   "codemirror_mode": {
    "name": "ipython",
    "version": 3
   },
   "file_extension": ".py",
   "mimetype": "text/x-python",
   "name": "python",
   "nbconvert_exporter": "python",
   "pygments_lexer": "ipython3",
   "version": "3.5.2"
  }
 },
 "nbformat": 4,
 "nbformat_minor": 1
}
