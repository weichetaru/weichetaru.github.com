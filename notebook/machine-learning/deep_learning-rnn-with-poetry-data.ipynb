{
 "cells": [
  {
   "cell_type": "markdown",
   "metadata": {},
   "source": [
    "# Use RNN to produce poetry\n",
    "\n",
    "In this note, I am going to use RNN to build a model that produce poetry. This is a code practice from Udemy deep learning course. "
   ]
  },
  {
   "cell_type": "markdown",
   "metadata": {},
   "source": [
    "## Prepare Data"
   ]
  },
  {
   "cell_type": "markdown",
   "metadata": {},
   "source": [
    "The function below will process robert_frost.txt and transform it into format required for the model training. `remove_punctuation` removes punctuation as it's not required in our model. `get_robert_frost` parse on each line and collect each word into a word-index dictionary. The ourput will be a list with all sentences where each word has been transformed into index.  "
   ]
  },
  {
   "cell_type": "code",
   "execution_count": 1,
   "metadata": {
    "collapsed": true
   },
   "outputs": [],
   "source": [
    "import string\n",
    "import theano\n",
    "import theano.tensor as T\n",
    "import numpy as np\n",
    "import matplotlib.pyplot as plt\n",
    "\n",
    "from sklearn.utils import shuffle\n",
    "\n",
    "def init_weight(Mi, Mo):\n",
    "    return np.random.randn(Mi, Mo) / np.sqrt(Mi + Mo)\n",
    "\n",
    "def remove_punctuation(s):\n",
    "    translator = str.maketrans({key: None for key in string.punctuation})\n",
    "    return s.translate(translator)\n",
    "\n",
    "def get_robert_frost():\n",
    "    word2idx = {'START': 0, 'END': 1}\n",
    "    current_idx = 2\n",
    "    sentences = []\n",
    "    for line in open('../data/robert_frost.txt'):\n",
    "        line = line.strip()\n",
    "        if line:\n",
    "            tokens = remove_punctuation(line.lower()).split()\n",
    "            sentence = []\n",
    "            for t in tokens:\n",
    "                if t not in word2idx:\n",
    "                    # true means it's a new word for our word2idx dictionary.\n",
    "                    # add to dictionary if not exists and assign word index for it.\n",
    "                    word2idx[t] = current_idx\n",
    "                    current_idx += 1\n",
    "                idx = word2idx[t]\n",
    "                sentence.append(idx)  # transform word into index.\n",
    "            sentences.append(sentence)\n",
    "    return sentences, word2idx"
   ]
  },
  {
   "cell_type": "code",
   "execution_count": 2,
   "metadata": {
    "collapsed": false
   },
   "outputs": [],
   "source": [
    "class SimpleRNN:\n",
    "    def __init__(self, D, M, V):\n",
    "        self.D = D # dim of wrod embedding\n",
    "        self.M = M # hidden layer size\n",
    "        self.V = V # vocabulary size\n",
    "        \n",
    "    def fit(self, X, learning_rate=10e-1, mu=0.99, reg=1.0, activation=T.tanh, epochs=500, show_fig=False):\n",
    "        N = len(X) # numbers of sentences\n",
    "        D = self.D\n",
    "        M = self.M\n",
    "        V = self.V\n",
    "        self.f = activation # for hidden layer\n",
    "\n",
    "        # initial weights\n",
    "        We = init_weight(V, D)\n",
    "        Wx = init_weight(D, M)\n",
    "        Wh = init_weight(M, M)\n",
    "        bh = np.zeros(M)\n",
    "        h0 = np.zeros(M)\n",
    "        Wo = init_weight(M, V)\n",
    "        bo = np.zeros(V)\n",
    "\n",
    "        # make them theano shared\n",
    "        self.We = theano.shared(We)\n",
    "        self.Wx = theano.shared(Wx)\n",
    "        self.Wh = theano.shared(Wh)\n",
    "        self.bh = theano.shared(bh)\n",
    "        self.h0 = theano.shared(h0)\n",
    "        self.Wo = theano.shared(Wo)\n",
    "        self.bo = theano.shared(bo)\n",
    "        self.params = [self.We, self.Wx, self.Wh, self.bh, self.h0, self.Wo, self.bo]\n",
    "        \n",
    "        # sentence input:\n",
    "        # [START, w1, w2, ..., wn]\n",
    "        # sentence target:\n",
    "        # [w1,    w2, w3, ..., END]\n",
    "        thX = T.ivector('X') # the sequence. will have length T. Note each sequence will have different T\n",
    "        Ei = self.We[thX] # this will be a TxD matrix\n",
    "        thY = T.ivector('Y')\n",
    "        \n",
    "        def recurrence(x_t, h_t1):\n",
    "            # return h(t), y(t)\n",
    "            h_t = self.f(x_t.dot(Wx) + h_t1.dot(self.Wh) + self.bh)\n",
    "            y_t = T.nnet.softmax(h_t.dot(self.Wo) + self.bo)\n",
    "            return h_t, y_t\n",
    "        \n",
    "        [h, y], _ = theano.scan(\n",
    "            fn=recurrence,\n",
    "            output_info=[self.h0, None],\n",
    "            sequences=Ei,\n",
    "            n_steps=Ei.shape[0],\n",
    "        )\n",
    "        \n",
    "        "
   ]
  },
  {
   "cell_type": "code",
   "execution_count": 3,
   "metadata": {
    "collapsed": false
   },
   "outputs": [
    {
     "name": "stdout",
     "output_type": "stream",
     "text": [
      "output: [  2.   3.   5.   8.  13.  21.  34.  55.]\n"
     ]
    }
   ],
   "source": [
    "import numpy as np\n",
    "import theano\n",
    "import theano.tensor as T\n",
    "\n",
    "\n",
    "N = T.iscalar('N')\n",
    "\n",
    "def recurrence(n, fn_1, fn_2): # Theano will know there're 2 recursive parameters.\n",
    "    fn_t = fn_1 + fn_2\n",
    "    # return current and last\n",
    "    return fn_t, fn_1  # As Theano knows there're 2 recursive parameters, both will be used for next iteration.\n",
    "\n",
    "outputs, _ = theano.scan(\n",
    "    fn=recurrence,\n",
    "    n_steps=N,\n",
    "    sequences=T.arange(N), # if remove this or set as sequences=[], n argument in recurrence() needs to be removed.\n",
    "    outputs_info=[1., 1.]  # must be a list and has the same lenght as output of fn.\n",
    ")\n",
    "\n",
    "fibonacci = theano.function(\n",
    "    inputs=[N],\n",
    "    outputs=outputs[0],\n",
    ")\n",
    "\n",
    "o_val = fibonacci(8)\n",
    "\n",
    "print(\"output:\", o_val)"
   ]
  }
 ],
 "metadata": {
  "anaconda-cloud": {},
  "kernelspec": {
   "display_name": "Python [conda root]",
   "language": "python",
   "name": "conda-root-py"
  },
  "language_info": {
   "codemirror_mode": {
    "name": "ipython",
    "version": 3
   },
   "file_extension": ".py",
   "mimetype": "text/x-python",
   "name": "python",
   "nbconvert_exporter": "python",
   "pygments_lexer": "ipython3",
   "version": "3.5.2"
  }
 },
 "nbformat": 4,
 "nbformat_minor": 1
}
